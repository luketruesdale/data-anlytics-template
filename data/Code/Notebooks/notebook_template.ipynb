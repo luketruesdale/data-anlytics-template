{
 "cells": [
  {
   "cell_type": "markdown",
   "id": "d6244f3f-029e-4cc8-ad76-23dfa597292c",
   "metadata": {},
   "source": [
    "# Project name "
   ]
  },
  {
   "cell_type": "markdown",
   "id": "68883995-5d0c-4bab-aad9-bb292638bf96",
   "metadata": {},
   "source": [
    "Project Description"
   ]
  },
  {
   "cell_type": "code",
   "execution_count": null,
   "id": "b218a884-75c5-4b14-ad28-b6ba6635a480",
   "metadata": {},
   "outputs": [],
   "source": []
  }
 ],
 "metadata": {
  "kernelspec": {
   "display_name": "Python 3 (ipykernel)",
   "language": "python",
   "name": "python3"
  },
  "language_info": {
   "codemirror_mode": {
    "name": "ipython",
    "version": 3
   },
   "file_extension": ".py",
   "mimetype": "text/x-python",
   "name": "python",
   "nbconvert_exporter": "python",
   "pygments_lexer": "ipython3",
   "version": "3.12.4"
  }
 },
 "nbformat": 4,
 "nbformat_minor": 5
}
